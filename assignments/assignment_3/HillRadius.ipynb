{
 "cells": [
  {
   "cell_type": "code",
   "execution_count": 1,
   "metadata": {},
   "outputs": [],
   "source": [
    "import numpy as np"
   ]
  },
  {
   "cell_type": "code",
   "execution_count": 2,
   "metadata": {},
   "outputs": [],
   "source": [
    "# planet = [Mass in Earth Masses, Distance from Sun in AU]\n",
    "Sun = [332900, 0]\n",
    "Mercury = [0.055, 0.4]\n",
    "Venus = [0.815, 0.7]\n",
    "Earth = [1, 1]\n",
    "Mars = [0.107, 1.5]\n",
    "Jupiter = [318, 5.2]\n",
    "Saturn = [95, 9.5]\n",
    "Uranus = [14, 19.2]\n",
    "Neptune = [17, 30.1]"
   ]
  },
  {
   "cell_type": "code",
   "execution_count": 3,
   "metadata": {},
   "outputs": [],
   "source": [
    "def Hill_Radius(planet):\n",
    "    mass = planet[0]\n",
    "    dist = planet[1]\n",
    "    return dist * ( mass/(3*Sun[0]) )**(1/3)"
   ]
  },
  {
   "cell_type": "code",
   "execution_count": 4,
   "metadata": {},
   "outputs": [
    {
     "name": "stdout",
     "output_type": "stream",
     "text": [
      "Planet: Hill Radius (AU)\n",
      "Mercury: 0.0015\n",
      "Venus    0.0065\n",
      "Earth:   0.0100\n",
      "Mars:    0.0071\n",
      "Jupiter: 0.3551\n",
      "Saturn:  0.4337\n",
      "Uranus:  0.4629\n",
      "Neptune: 0.7743\n"
     ]
    }
   ],
   "source": [
    "print(\"Planet: Hill Radius (AU)\")\n",
    "print(\"Mercury: {:.4f}\".format(Hill_Radius(Mercury)))\n",
    "print(\"Venus    {:.4f}\".format(Hill_Radius(Venus)))\n",
    "print(\"Earth:   {:.4f}\".format(Hill_Radius(Earth)))\n",
    "print(\"Mars:    {:.4f}\".format(Hill_Radius(Mars)))\n",
    "print(\"Jupiter: {:.4f}\".format(Hill_Radius(Jupiter)))\n",
    "print(\"Saturn:  {:.4f}\".format(Hill_Radius(Saturn)))\n",
    "print(\"Uranus:  {:.4f}\".format(Hill_Radius(Uranus)))\n",
    "print(\"Neptune: {:.4f}\".format(Hill_Radius(Neptune)))"
   ]
  },
  {
   "cell_type": "code",
   "execution_count": 5,
   "metadata": {},
   "outputs": [
    {
     "data": {
      "text/plain": [
       "0.00256951871657754"
      ]
     },
     "execution_count": 5,
     "metadata": {},
     "output_type": "execute_result"
    }
   ],
   "source": [
    "384400/1.496e8"
   ]
  },
  {
   "cell_type": "code",
   "execution_count": 6,
   "metadata": {},
   "outputs": [
    {
     "data": {
      "text/plain": [
       "0.00015685160427807488"
      ]
     },
     "execution_count": 6,
     "metadata": {},
     "output_type": "execute_result"
    }
   ],
   "source": [
    "23465/1.496e8"
   ]
  },
  {
   "cell_type": "code",
   "execution_count": 7,
   "metadata": {},
   "outputs": [
    {
     "data": {
      "text/plain": [
       "0.19097867647058825"
      ]
     },
     "execution_count": 7,
     "metadata": {},
     "output_type": "execute_result"
    }
   ],
   "source": [
    "28570410/1.496e8"
   ]
  },
  {
   "cell_type": "code",
   "execution_count": 8,
   "metadata": {},
   "outputs": [
    {
     "data": {
      "text/plain": [
       "0.17831550802139037"
      ]
     },
     "execution_count": 8,
     "metadata": {},
     "output_type": "execute_result"
    }
   ],
   "source": [
    "26676000/1.496e8"
   ]
  },
  {
   "cell_type": "code",
   "execution_count": 9,
   "metadata": {},
   "outputs": [
    {
     "data": {
      "text/plain": [
       "0.13970588235294118"
      ]
     },
     "execution_count": 9,
     "metadata": {},
     "output_type": "execute_result"
    }
   ],
   "source": [
    "20900000/1.496e8"
   ]
  },
  {
   "cell_type": "code",
   "execution_count": 10,
   "metadata": {},
   "outputs": [
    {
     "data": {
      "text/plain": [
       "0.3294451871657754"
      ]
     },
     "execution_count": 10,
     "metadata": {},
     "output_type": "execute_result"
    }
   ],
   "source": [
    "49285000/1.496e8"
   ]
  },
  {
   "cell_type": "code",
   "execution_count": null,
   "metadata": {},
   "outputs": [],
   "source": []
  }
 ],
 "metadata": {
  "kernelspec": {
   "display_name": "Python 3",
   "language": "python",
   "name": "python3"
  },
  "language_info": {
   "codemirror_mode": {
    "name": "ipython",
    "version": 3
   },
   "file_extension": ".py",
   "mimetype": "text/x-python",
   "name": "python",
   "nbconvert_exporter": "python",
   "pygments_lexer": "ipython3",
   "version": "3.7.6"
  }
 },
 "nbformat": 4,
 "nbformat_minor": 2
}
